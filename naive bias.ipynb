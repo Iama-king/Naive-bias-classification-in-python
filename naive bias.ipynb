{
 "cells": [
  {
   "cell_type": "code",
   "execution_count": 1,
   "id": "e7350113",
   "metadata": {},
   "outputs": [],
   "source": [
    "import pandas as pd\n",
    "import numpy as np"
   ]
  },
  {
   "cell_type": "code",
   "execution_count": 2,
   "id": "118c6b8e",
   "metadata": {},
   "outputs": [],
   "source": [
    "df=pd.read_csv(\"Exp1.csv\")"
   ]
  },
  {
   "cell_type": "code",
   "execution_count": 3,
   "id": "09f68080",
   "metadata": {},
   "outputs": [],
   "source": [
    "df.index=df.pop(\"Customer ID\")"
   ]
  },
  {
   "cell_type": "code",
   "execution_count": 4,
   "id": "2c8cb980",
   "metadata": {},
   "outputs": [
    {
     "data": {
      "text/html": [
       "<div>\n",
       "<style scoped>\n",
       "    .dataframe tbody tr th:only-of-type {\n",
       "        vertical-align: middle;\n",
       "    }\n",
       "\n",
       "    .dataframe tbody tr th {\n",
       "        vertical-align: top;\n",
       "    }\n",
       "\n",
       "    .dataframe thead th {\n",
       "        text-align: right;\n",
       "    }\n",
       "</style>\n",
       "<table border=\"1\" class=\"dataframe\">\n",
       "  <thead>\n",
       "    <tr style=\"text-align: right;\">\n",
       "      <th></th>\n",
       "      <th>MP</th>\n",
       "      <th>WP</th>\n",
       "      <th>LIP</th>\n",
       "      <th>CCI</th>\n",
       "      <th>Gender</th>\n",
       "    </tr>\n",
       "    <tr>\n",
       "      <th>Customer ID</th>\n",
       "      <th></th>\n",
       "      <th></th>\n",
       "      <th></th>\n",
       "      <th></th>\n",
       "      <th></th>\n",
       "    </tr>\n",
       "  </thead>\n",
       "  <tbody>\n",
       "    <tr>\n",
       "      <th>1</th>\n",
       "      <td>Yes</td>\n",
       "      <td>No</td>\n",
       "      <td>No</td>\n",
       "      <td>No</td>\n",
       "      <td>Male</td>\n",
       "    </tr>\n",
       "    <tr>\n",
       "      <th>2</th>\n",
       "      <td>Yes</td>\n",
       "      <td>Yes</td>\n",
       "      <td>Yes</td>\n",
       "      <td>Yes</td>\n",
       "      <td>Female</td>\n",
       "    </tr>\n",
       "    <tr>\n",
       "      <th>3</th>\n",
       "      <td>No</td>\n",
       "      <td>No</td>\n",
       "      <td>No</td>\n",
       "      <td>No</td>\n",
       "      <td>Male</td>\n",
       "    </tr>\n",
       "    <tr>\n",
       "      <th>4</th>\n",
       "      <td>Yes</td>\n",
       "      <td>Yes</td>\n",
       "      <td>Yes</td>\n",
       "      <td>Yes</td>\n",
       "      <td>Male</td>\n",
       "    </tr>\n",
       "    <tr>\n",
       "      <th>5</th>\n",
       "      <td>Yes</td>\n",
       "      <td>No</td>\n",
       "      <td>Yes</td>\n",
       "      <td>No</td>\n",
       "      <td>Female</td>\n",
       "    </tr>\n",
       "    <tr>\n",
       "      <th>6</th>\n",
       "      <td>No</td>\n",
       "      <td>No</td>\n",
       "      <td>No</td>\n",
       "      <td>No</td>\n",
       "      <td>Female</td>\n",
       "    </tr>\n",
       "    <tr>\n",
       "      <th>7</th>\n",
       "      <td>Yes</td>\n",
       "      <td>Yes</td>\n",
       "      <td>Yes</td>\n",
       "      <td>Yes</td>\n",
       "      <td>Male</td>\n",
       "    </tr>\n",
       "    <tr>\n",
       "      <th>8</th>\n",
       "      <td>No</td>\n",
       "      <td>No</td>\n",
       "      <td>No</td>\n",
       "      <td>No</td>\n",
       "      <td>Male</td>\n",
       "    </tr>\n",
       "    <tr>\n",
       "      <th>9</th>\n",
       "      <td>Yes</td>\n",
       "      <td>No</td>\n",
       "      <td>No</td>\n",
       "      <td>No</td>\n",
       "      <td>Male</td>\n",
       "    </tr>\n",
       "    <tr>\n",
       "      <th>10</th>\n",
       "      <td>Yes</td>\n",
       "      <td>Yes</td>\n",
       "      <td>No</td>\n",
       "      <td>No</td>\n",
       "      <td>Female</td>\n",
       "    </tr>\n",
       "  </tbody>\n",
       "</table>\n",
       "</div>"
      ],
      "text/plain": [
       "              MP   WP  LIP  CCI  Gender\n",
       "Customer ID                            \n",
       "1            Yes   No   No   No    Male\n",
       "2            Yes  Yes  Yes  Yes  Female\n",
       "3             No   No   No   No    Male\n",
       "4            Yes  Yes  Yes  Yes    Male\n",
       "5            Yes   No  Yes   No  Female\n",
       "6             No   No   No   No  Female\n",
       "7            Yes  Yes  Yes  Yes    Male\n",
       "8             No   No   No   No    Male\n",
       "9            Yes   No   No   No    Male\n",
       "10           Yes  Yes   No   No  Female"
      ]
     },
     "execution_count": 4,
     "metadata": {},
     "output_type": "execute_result"
    }
   ],
   "source": [
    "df"
   ]
  },
  {
   "cell_type": "code",
   "execution_count": 5,
   "id": "8ac79d8c",
   "metadata": {},
   "outputs": [],
   "source": [
    " a=list(df[\"MP\"])"
   ]
  },
  {
   "cell_type": "code",
   "execution_count": 6,
   "id": "6365e262",
   "metadata": {},
   "outputs": [],
   "source": [
    "def split(df,t):# data frame and target variable\n",
    "    a=[]\n",
    "    b1=[]\n",
    "    b=0\n",
    "    h1=1\n",
    "    h2=1\n",
    "    for i in df:\n",
    "        if(i==t):\n",
    "            b=-1\n",
    "            a1=list(df[i])\n",
    "            a.append(a1)\n",
    "            b1.append(i)\n",
    "        else:\n",
    "            a1=list(df[i])\n",
    "            a.append(a1)\n",
    "            b1.append(i)\n",
    "            h1*=a1.count(\"Yes\")/len(a1)\n",
    "            h2*=a1.count(\"No\")/len(a1)\n",
    "    print(a)\n",
    "    print(b1)\n",
    "\n",
    "    df1=table(a[0],a[b],b1[0])\n",
    "    df2=table(a[1],a[b],b1[1])\n",
    "    df3=table(a[2],a[b],b1[2])\n",
    "    df4=table(a[3],a[b],b1[3])\n",
    "    df1.index=df1.pop(b1[0])\n",
    "    df2.index=df2.pop(b1[1])\n",
    "    df3.index=df3.pop(b1[2])\n",
    "    df4.index=df4.pop(b1[3])\n",
    "    return df1,df2,df3,df4,h1,h2\n",
    "    "
   ]
  },
  {
   "cell_type": "code",
   "execution_count": 7,
   "id": "3eefa53e",
   "metadata": {},
   "outputs": [],
   "source": [
    "def table(a,b,c):#,actual variabe coloumn, target variable list,actual varable coloumn name\n",
    "    df=pd.DataFrame()\n",
    "    a1,a2,a3,a4=0,0,0,0\n",
    "    if(len(a)==len(b)):\n",
    "        for i in range(len(a)):\n",
    "            if(a[i]==\"Yes\" and b[i]==\"Male\"):\n",
    "                a1+=1\n",
    "                continue\n",
    "            if(a[i]==\"No\" and b[i]==\"Male\"):\n",
    "                a2+=1\n",
    "                continue\n",
    "            if(a[i]==\"Yes\" and b[i]==\"Female\"):\n",
    "                a3+=1\n",
    "                continue\n",
    "            if(a[i]==\"No\" and b[i]==\"Female\"):\n",
    "                a4+=1\n",
    "                continue\n",
    "        m=b.count(\"Male\")\n",
    "        f=b.count(\"Female\")\n",
    "        c1=[\"Yes\",\"No\",\"Total\"]\n",
    "        df[c]=c1\n",
    "        df[\"Male\"]=[a1,a2,a1+a2]\n",
    "        df[\"Female\"]=[a3,a4,a3+a4]\n",
    "        df[\"Lm\"]=[a1/m,a2/m,(a1+a2)/m]\n",
    "        df[\"Lf\"]=[a3/f,a4/f,(a3+a4)/f]\n",
    "        return df\n",
    "\n",
    "    "
   ]
  },
  {
   "cell_type": "code",
   "execution_count": 8,
   "id": "9fd8ea48",
   "metadata": {},
   "outputs": [
    {
     "ename": "TypeError",
     "evalue": "split() missing 1 required positional argument: 't'",
     "output_type": "error",
     "traceback": [
      "\u001b[1;31m---------------------------------------------------------------------------\u001b[0m",
      "\u001b[1;31mTypeError\u001b[0m                                 Traceback (most recent call last)",
      "Cell \u001b[1;32mIn[8], line 1\u001b[0m\n\u001b[1;32m----> 1\u001b[0m \u001b[43msplit\u001b[49m\u001b[43m(\u001b[49m\u001b[43mdf\u001b[49m\u001b[43m,\u001b[49m\u001b[43m)\u001b[49m\n",
      "\u001b[1;31mTypeError\u001b[0m: split() missing 1 required positional argument: 't'"
     ]
    }
   ],
   "source": []
  },
  {
   "cell_type": "code",
   "execution_count": 9,
   "id": "8213bca4",
   "metadata": {},
   "outputs": [],
   "source": [
    "def predict(df,mp,wp,lip,cci):\n",
    "    df1,df2,df3,df4,h1,h2=split(df,\"Gender\")\n",
    "    pm=0\n",
    "    pf=0\n",
    "    pm1=(df1.iloc[2,0])/(df1.iloc[2,1]+df1.iloc[2,0])#p(T)\n",
    "    pf1=(df1.iloc[2,1])/(df1.iloc[2,1]+df1.iloc[2,0])\n",
    "    pm=pm1*df1.iloc[mp,2]*df2.iloc[wp,2]*df3.iloc[lip,2]*df4.iloc[cci,2] #p\n",
    "    pf=pf1*df1.iloc[mp,3]*df2.iloc[wp,3]*df3.iloc[lip,3]*df4.iloc[cci,3]\n",
    "    t=pm+pf\n",
    "    pm=pm/t\n",
    "    pf=pf/t\n",
    "    if(pm>pf):\n",
    "        return pm,\"Male\"\n",
    "    else:\n",
    "        return pf,\"Female\"\n",
    "    "
   ]
  },
  {
   "cell_type": "code",
   "execution_count": 10,
   "id": "a964d27b",
   "metadata": {},
   "outputs": [
    {
     "name": "stdout",
     "output_type": "stream",
     "text": [
      "does the user have Magazine Promotion ?1\n",
      "does the user have watch Promotion ?1\n",
      "does the user have Life Insurance Promotion ?1\n",
      "does the user have Credit Card Insurance ?1\n",
      "[['Yes', 'Yes', 'No', 'Yes', 'Yes', 'No', 'Yes', 'No', 'Yes', 'Yes'], ['No', 'Yes', 'No', 'Yes', 'No', 'No', 'Yes', 'No', 'No', 'Yes'], ['No', 'Yes', 'No', 'Yes', 'Yes', 'No', 'Yes', 'No', 'No', 'No'], ['No', 'Yes', 'No', 'Yes', 'No', 'No', 'Yes', 'No', 'No', 'No'], ['Male', 'Female', 'Male', 'Male', 'Female', 'Female', 'Male', 'Male', 'Male', 'Female']]\n",
      "['MP', 'WP', 'LIP', 'CCI', 'Gender']\n",
      "the predicted persion is:  Female\n",
      "the predicted persentage is:  55.86206896551725\n"
     ]
    }
   ],
   "source": [
    "mp=int(input(\"does the user have Magazine Promotion ?\"))\n",
    "wp=int(input(\"does the user have watch Promotion ?\"))\n",
    "lip=int(input(\"does the user have Life Insurance Promotion ?\"))\n",
    "cci=int(input(\"does the user have Credit Card Insurance ?\"))\n",
    "if(mp==1):\n",
    "    mp=0;\n",
    "else:\n",
    "    mp=1\n",
    "if(wp==1):\n",
    "    wp=0;\n",
    "else:\n",
    "    wp=1\n",
    "if(lip==1):\n",
    "    lip=0;\n",
    "else:\n",
    "    lip=1\n",
    "if(cci==1):\n",
    "    cci=0;\n",
    "else:\n",
    "    cci=1\n",
    "p,result=predict(df,mp,wp,lip,cci)\n",
    "print(\"the predicted persion is: \",result)\n",
    "print(\"the predicted persentage is: \",p*100)"
   ]
  },
  {
   "cell_type": "code",
   "execution_count": 11,
   "id": "a61bb748",
   "metadata": {},
   "outputs": [
    {
     "name": "stdout",
     "output_type": "stream",
     "text": [
      "[['Yes', 'Yes', 'No', 'Yes', 'Yes', 'No', 'Yes', 'No', 'Yes', 'Yes'], ['No', 'Yes', 'No', 'Yes', 'No', 'No', 'Yes', 'No', 'No', 'Yes'], ['No', 'Yes', 'No', 'Yes', 'Yes', 'No', 'Yes', 'No', 'No', 'No'], ['No', 'Yes', 'No', 'Yes', 'No', 'No', 'Yes', 'No', 'No', 'No'], ['Male', 'Female', 'Male', 'Male', 'Female', 'Female', 'Male', 'Male', 'Male', 'Female']]\n",
      "['MP', 'WP', 'LIP', 'CCI', 'Gender']\n"
     ]
    }
   ],
   "source": [
    "df1,df2,df3,df4,h1,h2=split(df,\"Gender\")"
   ]
  },
  {
   "cell_type": "markdown",
   "id": "b126f1f0",
   "metadata": {},
   "source": [
    "df1\n"
   ]
  },
  {
   "cell_type": "code",
   "execution_count": 20,
   "id": "9e4d7060",
   "metadata": {},
   "outputs": [
    {
     "data": {
      "text/html": [
       "<div>\n",
       "<style scoped>\n",
       "    .dataframe tbody tr th:only-of-type {\n",
       "        vertical-align: middle;\n",
       "    }\n",
       "\n",
       "    .dataframe tbody tr th {\n",
       "        vertical-align: top;\n",
       "    }\n",
       "\n",
       "    .dataframe thead th {\n",
       "        text-align: right;\n",
       "    }\n",
       "</style>\n",
       "<table border=\"1\" class=\"dataframe\">\n",
       "  <thead>\n",
       "    <tr style=\"text-align: right;\">\n",
       "      <th></th>\n",
       "      <th>Male</th>\n",
       "      <th>Female</th>\n",
       "      <th>Lm</th>\n",
       "      <th>Lf</th>\n",
       "    </tr>\n",
       "    <tr>\n",
       "      <th>MP</th>\n",
       "      <th></th>\n",
       "      <th></th>\n",
       "      <th></th>\n",
       "      <th></th>\n",
       "    </tr>\n",
       "  </thead>\n",
       "  <tbody>\n",
       "    <tr>\n",
       "      <th>Yes</th>\n",
       "      <td>4</td>\n",
       "      <td>3</td>\n",
       "      <td>0.666667</td>\n",
       "      <td>0.75</td>\n",
       "    </tr>\n",
       "    <tr>\n",
       "      <th>No</th>\n",
       "      <td>2</td>\n",
       "      <td>1</td>\n",
       "      <td>0.333333</td>\n",
       "      <td>0.25</td>\n",
       "    </tr>\n",
       "    <tr>\n",
       "      <th>Total</th>\n",
       "      <td>6</td>\n",
       "      <td>4</td>\n",
       "      <td>1.000000</td>\n",
       "      <td>1.00</td>\n",
       "    </tr>\n",
       "  </tbody>\n",
       "</table>\n",
       "</div>"
      ],
      "text/plain": [
       "       Male  Female        Lm    Lf\n",
       "MP                                 \n",
       "Yes       4       3  0.666667  0.75\n",
       "No        2       1  0.333333  0.25\n",
       "Total     6       4  1.000000  1.00"
      ]
     },
     "execution_count": 20,
     "metadata": {},
     "output_type": "execute_result"
    }
   ],
   "source": [
    "df1"
   ]
  },
  {
   "cell_type": "code",
   "execution_count": 13,
   "id": "5efb5434",
   "metadata": {},
   "outputs": [
    {
     "data": {
      "text/html": [
       "<div>\n",
       "<style scoped>\n",
       "    .dataframe tbody tr th:only-of-type {\n",
       "        vertical-align: middle;\n",
       "    }\n",
       "\n",
       "    .dataframe tbody tr th {\n",
       "        vertical-align: top;\n",
       "    }\n",
       "\n",
       "    .dataframe thead th {\n",
       "        text-align: right;\n",
       "    }\n",
       "</style>\n",
       "<table border=\"1\" class=\"dataframe\">\n",
       "  <thead>\n",
       "    <tr style=\"text-align: right;\">\n",
       "      <th></th>\n",
       "      <th>Male</th>\n",
       "      <th>Female</th>\n",
       "      <th>Lm</th>\n",
       "      <th>Lf</th>\n",
       "    </tr>\n",
       "    <tr>\n",
       "      <th>WP</th>\n",
       "      <th></th>\n",
       "      <th></th>\n",
       "      <th></th>\n",
       "      <th></th>\n",
       "    </tr>\n",
       "  </thead>\n",
       "  <tbody>\n",
       "    <tr>\n",
       "      <th>Yes</th>\n",
       "      <td>2</td>\n",
       "      <td>2</td>\n",
       "      <td>0.333333</td>\n",
       "      <td>0.5</td>\n",
       "    </tr>\n",
       "    <tr>\n",
       "      <th>No</th>\n",
       "      <td>4</td>\n",
       "      <td>2</td>\n",
       "      <td>0.666667</td>\n",
       "      <td>0.5</td>\n",
       "    </tr>\n",
       "    <tr>\n",
       "      <th>Total</th>\n",
       "      <td>6</td>\n",
       "      <td>4</td>\n",
       "      <td>1.000000</td>\n",
       "      <td>1.0</td>\n",
       "    </tr>\n",
       "  </tbody>\n",
       "</table>\n",
       "</div>"
      ],
      "text/plain": [
       "       Male  Female        Lm   Lf\n",
       "WP                                \n",
       "Yes       2       2  0.333333  0.5\n",
       "No        4       2  0.666667  0.5\n",
       "Total     6       4  1.000000  1.0"
      ]
     },
     "execution_count": 13,
     "metadata": {},
     "output_type": "execute_result"
    }
   ],
   "source": [
    "df2"
   ]
  },
  {
   "cell_type": "code",
   "execution_count": 14,
   "id": "7f8ce66e",
   "metadata": {},
   "outputs": [
    {
     "data": {
      "text/html": [
       "<div>\n",
       "<style scoped>\n",
       "    .dataframe tbody tr th:only-of-type {\n",
       "        vertical-align: middle;\n",
       "    }\n",
       "\n",
       "    .dataframe tbody tr th {\n",
       "        vertical-align: top;\n",
       "    }\n",
       "\n",
       "    .dataframe thead th {\n",
       "        text-align: right;\n",
       "    }\n",
       "</style>\n",
       "<table border=\"1\" class=\"dataframe\">\n",
       "  <thead>\n",
       "    <tr style=\"text-align: right;\">\n",
       "      <th></th>\n",
       "      <th>Male</th>\n",
       "      <th>Female</th>\n",
       "      <th>Lm</th>\n",
       "      <th>Lf</th>\n",
       "    </tr>\n",
       "    <tr>\n",
       "      <th>LIP</th>\n",
       "      <th></th>\n",
       "      <th></th>\n",
       "      <th></th>\n",
       "      <th></th>\n",
       "    </tr>\n",
       "  </thead>\n",
       "  <tbody>\n",
       "    <tr>\n",
       "      <th>Yes</th>\n",
       "      <td>2</td>\n",
       "      <td>2</td>\n",
       "      <td>0.333333</td>\n",
       "      <td>0.5</td>\n",
       "    </tr>\n",
       "    <tr>\n",
       "      <th>No</th>\n",
       "      <td>4</td>\n",
       "      <td>2</td>\n",
       "      <td>0.666667</td>\n",
       "      <td>0.5</td>\n",
       "    </tr>\n",
       "    <tr>\n",
       "      <th>Total</th>\n",
       "      <td>6</td>\n",
       "      <td>4</td>\n",
       "      <td>1.000000</td>\n",
       "      <td>1.0</td>\n",
       "    </tr>\n",
       "  </tbody>\n",
       "</table>\n",
       "</div>"
      ],
      "text/plain": [
       "       Male  Female        Lm   Lf\n",
       "LIP                               \n",
       "Yes       2       2  0.333333  0.5\n",
       "No        4       2  0.666667  0.5\n",
       "Total     6       4  1.000000  1.0"
      ]
     },
     "execution_count": 14,
     "metadata": {},
     "output_type": "execute_result"
    }
   ],
   "source": [
    "df3"
   ]
  },
  {
   "cell_type": "code",
   "execution_count": 15,
   "id": "c08ccf94",
   "metadata": {},
   "outputs": [
    {
     "data": {
      "text/html": [
       "<div>\n",
       "<style scoped>\n",
       "    .dataframe tbody tr th:only-of-type {\n",
       "        vertical-align: middle;\n",
       "    }\n",
       "\n",
       "    .dataframe tbody tr th {\n",
       "        vertical-align: top;\n",
       "    }\n",
       "\n",
       "    .dataframe thead th {\n",
       "        text-align: right;\n",
       "    }\n",
       "</style>\n",
       "<table border=\"1\" class=\"dataframe\">\n",
       "  <thead>\n",
       "    <tr style=\"text-align: right;\">\n",
       "      <th></th>\n",
       "      <th>Male</th>\n",
       "      <th>Female</th>\n",
       "      <th>Lm</th>\n",
       "      <th>Lf</th>\n",
       "    </tr>\n",
       "    <tr>\n",
       "      <th>CCI</th>\n",
       "      <th></th>\n",
       "      <th></th>\n",
       "      <th></th>\n",
       "      <th></th>\n",
       "    </tr>\n",
       "  </thead>\n",
       "  <tbody>\n",
       "    <tr>\n",
       "      <th>Yes</th>\n",
       "      <td>2</td>\n",
       "      <td>1</td>\n",
       "      <td>0.333333</td>\n",
       "      <td>0.25</td>\n",
       "    </tr>\n",
       "    <tr>\n",
       "      <th>No</th>\n",
       "      <td>4</td>\n",
       "      <td>3</td>\n",
       "      <td>0.666667</td>\n",
       "      <td>0.75</td>\n",
       "    </tr>\n",
       "    <tr>\n",
       "      <th>Total</th>\n",
       "      <td>6</td>\n",
       "      <td>4</td>\n",
       "      <td>1.000000</td>\n",
       "      <td>1.00</td>\n",
       "    </tr>\n",
       "  </tbody>\n",
       "</table>\n",
       "</div>"
      ],
      "text/plain": [
       "       Male  Female        Lm    Lf\n",
       "CCI                                \n",
       "Yes       2       1  0.333333  0.25\n",
       "No        4       3  0.666667  0.75\n",
       "Total     6       4  1.000000  1.00"
      ]
     },
     "execution_count": 15,
     "metadata": {},
     "output_type": "execute_result"
    }
   ],
   "source": [
    "df4"
   ]
  },
  {
   "cell_type": "code",
   "execution_count": 21,
   "id": "c8383e36",
   "metadata": {},
   "outputs": [
    {
     "data": {
      "text/plain": [
       "0.6666666666666666"
      ]
     },
     "execution_count": 21,
     "metadata": {},
     "output_type": "execute_result"
    }
   ],
   "source": [
    "4/6"
   ]
  },
  {
   "cell_type": "code",
   "execution_count": null,
   "id": "980bf60e",
   "metadata": {},
   "outputs": [],
   "source": []
  }
 ],
 "metadata": {
  "kernelspec": {
   "display_name": "Python 3 (ipykernel)",
   "language": "python",
   "name": "python3"
  },
  "language_info": {
   "codemirror_mode": {
    "name": "ipython",
    "version": 3
   },
   "file_extension": ".py",
   "mimetype": "text/x-python",
   "name": "python",
   "nbconvert_exporter": "python",
   "pygments_lexer": "ipython3",
   "version": "3.10.6"
  }
 },
 "nbformat": 4,
 "nbformat_minor": 5
}
